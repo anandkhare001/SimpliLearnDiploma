{
 "cells": [
  {
   "cell_type": "code",
   "execution_count": 1,
   "id": "7f4df897",
   "metadata": {},
   "outputs": [],
   "source": [
    "import pandas as pd \n",
    "import numpy as np\n",
    "import os\n",
    "import re # regualr expression module"
   ]
  },
  {
   "cell_type": "markdown",
   "id": "d6d58211",
   "metadata": {},
   "source": [
    "### 1. Load csv data"
   ]
  },
  {
   "cell_type": "code",
   "execution_count": 2,
   "id": "3eea028e",
   "metadata": {},
   "outputs": [
    {
     "data": {
      "text/html": [
       "<div>\n",
       "<style scoped>\n",
       "    .dataframe tbody tr th:only-of-type {\n",
       "        vertical-align: middle;\n",
       "    }\n",
       "\n",
       "    .dataframe tbody tr th {\n",
       "        vertical-align: top;\n",
       "    }\n",
       "\n",
       "    .dataframe thead th {\n",
       "        text-align: right;\n",
       "    }\n",
       "</style>\n",
       "<table border=\"1\" class=\"dataframe\">\n",
       "  <thead>\n",
       "    <tr style=\"text-align: right;\">\n",
       "      <th></th>\n",
       "      <th>id</th>\n",
       "      <th>label</th>\n",
       "      <th>tweet</th>\n",
       "    </tr>\n",
       "  </thead>\n",
       "  <tbody>\n",
       "    <tr>\n",
       "      <th>0</th>\n",
       "      <td>1</td>\n",
       "      <td>0</td>\n",
       "      <td>@user when a father is dysfunctional and is s...</td>\n",
       "    </tr>\n",
       "    <tr>\n",
       "      <th>1</th>\n",
       "      <td>2</td>\n",
       "      <td>0</td>\n",
       "      <td>@user @user thanks for #lyft credit i can't us...</td>\n",
       "    </tr>\n",
       "    <tr>\n",
       "      <th>2</th>\n",
       "      <td>3</td>\n",
       "      <td>0</td>\n",
       "      <td>bihday your majesty</td>\n",
       "    </tr>\n",
       "    <tr>\n",
       "      <th>3</th>\n",
       "      <td>4</td>\n",
       "      <td>0</td>\n",
       "      <td>#model   i love u take with u all the time in ...</td>\n",
       "    </tr>\n",
       "    <tr>\n",
       "      <th>4</th>\n",
       "      <td>5</td>\n",
       "      <td>0</td>\n",
       "      <td>factsguide: society now    #motivation</td>\n",
       "    </tr>\n",
       "  </tbody>\n",
       "</table>\n",
       "</div>"
      ],
      "text/plain": [
       "   id  label                                              tweet\n",
       "0   1      0   @user when a father is dysfunctional and is s...\n",
       "1   2      0  @user @user thanks for #lyft credit i can't us...\n",
       "2   3      0                                bihday your majesty\n",
       "3   4      0  #model   i love u take with u all the time in ...\n",
       "4   5      0             factsguide: society now    #motivation"
      ]
     },
     "execution_count": 2,
     "metadata": {},
     "output_type": "execute_result"
    }
   ],
   "source": [
    "inp_tweets = pd.read_csv('Twitterhate.csv')\n",
    "inp_tweets.head()"
   ]
  },
  {
   "cell_type": "code",
   "execution_count": 4,
   "id": "c295e90d",
   "metadata": {},
   "outputs": [
    {
     "data": {
      "text/plain": [
       "0    29720\n",
       "1     2242\n",
       "Name: label, dtype: int64"
      ]
     },
     "execution_count": 4,
     "metadata": {},
     "output_type": "execute_result"
    }
   ],
   "source": [
    "inp_tweets.label.value_counts()"
   ]
  },
  {
   "cell_type": "code",
   "execution_count": 6,
   "id": "4a0c3c0f",
   "metadata": {},
   "outputs": [
    {
     "data": {
      "text/plain": [
       "\"registered for fall classes! hopefully graphic and web goes as well as admin profesh and i make the dean's list each semester!  \""
      ]
     },
     "execution_count": 6,
     "metadata": {},
     "output_type": "execute_result"
    }
   ],
   "source": [
    "inp_tweets.tweet.sample().values[0]"
   ]
  },
  {
   "cell_type": "markdown",
   "id": "604374ec",
   "metadata": {},
   "source": [
    "### 2. Get the tweets into a list, for easy text clean up and manipulation"
   ]
  },
  {
   "cell_type": "code",
   "execution_count": 8,
   "id": "44385f17",
   "metadata": {},
   "outputs": [
    {
     "data": {
      "text/plain": [
       "array([' @user when a father is dysfunctional and is so selfish he drags his kids into his dysfunction.   #run',\n",
       "       \"@user @user thanks for #lyft credit i can't use cause they don't offer wheelchair vans in pdx.    #disapointed #getthanked\",\n",
       "       '  bihday your majesty', ...,\n",
       "       'listening to sad songs on a monday morning otw to work is sad  ',\n",
       "       '@user #sikh #temple vandalised in in #calgary, #wso condemns  act  ',\n",
       "       'thank you @user for you follow  '], dtype=object)"
      ]
     },
     "execution_count": 8,
     "metadata": {},
     "output_type": "execute_result"
    }
   ],
   "source": [
    "tweetList = inp_tweets.tweet.values\n",
    "tweetList"
   ]
  },
  {
   "cell_type": "code",
   "execution_count": 9,
   "id": "d1418b51",
   "metadata": {},
   "outputs": [
    {
     "data": {
      "text/plain": [
       "31962"
      ]
     },
     "execution_count": 9,
     "metadata": {},
     "output_type": "execute_result"
    }
   ],
   "source": [
    "len(tweetList)"
   ]
  },
  {
   "cell_type": "code",
   "execution_count": 10,
   "id": "2b4d3d5f",
   "metadata": {},
   "outputs": [
    {
     "data": {
      "text/plain": [
       "array([' @user when a father is dysfunctional and is so selfish he drags his kids into his dysfunction.   #run',\n",
       "       \"@user @user thanks for #lyft credit i can't use cause they don't offer wheelchair vans in pdx.    #disapointed #getthanked\",\n",
       "       '  bihday your majesty',\n",
       "       '#model   i love u take with u all the time in urð\\x9f\\x93±!!! ð\\x9f\\x98\\x99ð\\x9f\\x98\\x8eð\\x9f\\x91\\x84ð\\x9f\\x91\\x85ð\\x9f\\x92¦ð\\x9f\\x92¦ð\\x9f\\x92¦  ',\n",
       "       ' factsguide: society now    #motivation'], dtype=object)"
      ]
     },
     "execution_count": 10,
     "metadata": {},
     "output_type": "execute_result"
    }
   ],
   "source": [
    "tweetList[0:5]"
   ]
  },
  {
   "cell_type": "markdown",
   "id": "29ac4d06",
   "metadata": {},
   "source": [
    "The tweets contain -\n",
    "\n",
    "URLs,\n",
    "\n",
    "Hashtags,\n",
    "\n",
    "User handles,\n",
    "\n",
    "'RT'"
   ]
  },
  {
   "cell_type": "markdown",
   "id": "f79b496c",
   "metadata": {},
   "source": [
    "### 3. Clean Up"
   ]
  },
  {
   "cell_type": "markdown",
   "id": "ab276f4d",
   "metadata": {},
   "source": [
    "#### 3.1 Normalizing case - to lower case"
   ]
  },
  {
   "cell_type": "code",
   "execution_count": 13,
   "id": "869df465",
   "metadata": {},
   "outputs": [
    {
     "data": {
      "text/plain": [
       "[' @user when a father is dysfunctional and is so selfish he drags his kids into his dysfunction.   #run',\n",
       " \"@user @user thanks for #lyft credit i can't use cause they don't offer wheelchair vans in pdx.    #disapointed #getthanked\",\n",
       " '  bihday your majesty',\n",
       " '#model   i love u take with u all the time in urð\\x9f\\x93±!!! ð\\x9f\\x98\\x99ð\\x9f\\x98\\x8eð\\x9f\\x91\\x84ð\\x9f\\x91\\x85ð\\x9f\\x92¦ð\\x9f\\x92¦ð\\x9f\\x92¦  ',\n",
       " ' factsguide: society now    #motivation']"
      ]
     },
     "execution_count": 13,
     "metadata": {},
     "output_type": "execute_result"
    }
   ],
   "source": [
    "tweetsLower = [twt.lower() for twt in tweetList]\n",
    "tweetsLower[0:5]"
   ]
  },
  {
   "cell_type": "markdown",
   "id": "97f44186",
   "metadata": {},
   "source": [
    "#### 3.2 Remove user handles, begin with '@'"
   ]
  },
  {
   "cell_type": "code",
   "execution_count": 52,
   "id": "7b434d2f",
   "metadata": {},
   "outputs": [
    {
     "data": {
      "text/plain": [
       "'.khare'"
      ]
     },
     "execution_count": 52,
     "metadata": {},
     "output_type": "execute_result"
    }
   ],
   "source": [
    "re.sub('@\\w+', '', '@anand.khare')"
   ]
  },
  {
   "cell_type": "code",
   "execution_count": 21,
   "id": "f2a2a2f6",
   "metadata": {},
   "outputs": [
    {
     "data": {
      "text/plain": [
       "['  when a father is dysfunctional and is so selfish he drags his kids into his dysfunction.   #run',\n",
       " \"  thanks for #lyft credit i can't use cause they don't offer wheelchair vans in pdx.    #disapointed #getthanked\",\n",
       " '  bihday your majesty',\n",
       " '#model   i love u take with u all the time in urð\\x9f\\x93±!!! ð\\x9f\\x98\\x99ð\\x9f\\x98\\x8eð\\x9f\\x91\\x84ð\\x9f\\x91\\x85ð\\x9f\\x92¦ð\\x9f\\x92¦ð\\x9f\\x92¦  ',\n",
       " ' factsguide: society now    #motivation',\n",
       " '[2/2] huge fan fare and big talking before they leave. chaos and pay disputes when they get there. #allshowandnogo  ',\n",
       " '  camping tomorrow        dannyâ\\x80¦',\n",
       " \"the next school year is the year for exams.ð\\x9f\\x98¯ can't think about that ð\\x9f\\x98\\xad #school #exams   #hate #imagine #actorslife #revolutionschool #girl\",\n",
       " 'we won!!! love the land!!! #allin #cavs #champions #cleveland #clevelandcavaliers  â\\x80¦ ',\n",
       " \"   welcome here !  i'm   it's so #gr8 ! \"]"
      ]
     },
     "execution_count": 21,
     "metadata": {},
     "output_type": "execute_result"
    }
   ],
   "source": [
    "tweetsNoUser = [re.sub('@\\w+', '', twt) for twt in tweetsLower]\n",
    "tweetsNoUser[0:10]"
   ]
  },
  {
   "cell_type": "markdown",
   "id": "61b77933",
   "metadata": {},
   "source": [
    "#### 3.3 Remove URLs"
   ]
  },
  {
   "cell_type": "code",
   "execution_count": 19,
   "id": "8e5ed059",
   "metadata": {},
   "outputs": [
    {
     "data": {
      "text/plain": [
       "'Use this link : '"
      ]
     },
     "execution_count": 19,
     "metadata": {},
     "output_type": "execute_result"
    }
   ],
   "source": [
    "re.sub('\\w+://\\S+', '', 'Use this link : https://anand.khare')"
   ]
  },
  {
   "cell_type": "code",
   "execution_count": 22,
   "id": "3fec0cd9",
   "metadata": {},
   "outputs": [
    {
     "data": {
      "text/plain": [
       "['  when a father is dysfunctional and is so selfish he drags his kids into his dysfunction.   #run',\n",
       " \"  thanks for #lyft credit i can't use cause they don't offer wheelchair vans in pdx.    #disapointed #getthanked\",\n",
       " '  bihday your majesty',\n",
       " '#model   i love u take with u all the time in urð\\x9f\\x93±!!! ð\\x9f\\x98\\x99ð\\x9f\\x98\\x8eð\\x9f\\x91\\x84ð\\x9f\\x91\\x85ð\\x9f\\x92¦ð\\x9f\\x92¦ð\\x9f\\x92¦  ',\n",
       " ' factsguide: society now    #motivation',\n",
       " '[2/2] huge fan fare and big talking before they leave. chaos and pay disputes when they get there. #allshowandnogo  ',\n",
       " '  camping tomorrow        dannyâ\\x80¦',\n",
       " \"the next school year is the year for exams.ð\\x9f\\x98¯ can't think about that ð\\x9f\\x98\\xad #school #exams   #hate #imagine #actorslife #revolutionschool #girl\",\n",
       " 'we won!!! love the land!!! #allin #cavs #champions #cleveland #clevelandcavaliers  â\\x80¦ ',\n",
       " \"   welcome here !  i'm   it's so #gr8 ! \"]"
      ]
     },
     "execution_count": 22,
     "metadata": {},
     "output_type": "execute_result"
    }
   ],
   "source": [
    "tweetsNoUrl = [re.sub('\\w+://\\S+', '', twt) for twt in tweetsNoUser]\n",
    "tweetsNoUrl[0:10]"
   ]
  },
  {
   "cell_type": "markdown",
   "id": "ed0f3f46",
   "metadata": {},
   "source": [
    "### 3.4 Tokenze using Tweet Tokenizer from NLTK"
   ]
  },
  {
   "cell_type": "code",
   "execution_count": 23,
   "id": "0c7fcbe6",
   "metadata": {},
   "outputs": [],
   "source": [
    "from nltk.tokenize import TweetTokenizer"
   ]
  },
  {
   "cell_type": "code",
   "execution_count": 25,
   "id": "8ed52e81",
   "metadata": {},
   "outputs": [],
   "source": [
    "tkn = TweetTokenizer()"
   ]
  },
  {
   "cell_type": "code",
   "execution_count": 27,
   "id": "5f06f7ea",
   "metadata": {},
   "outputs": [
    {
     "name": "stdout",
     "output_type": "stream",
     "text": [
      "['when', 'a', 'father', 'is', 'dysfunctional', 'and', 'is', 'so', 'selfish', 'he', 'drags', 'his', 'kids', 'into', 'his', 'dysfunction', '.', '#run']\n"
     ]
    }
   ],
   "source": [
    "print(tkn.tokenize(tweetsNoUrl[0]))"
   ]
  },
  {
   "cell_type": "code",
   "execution_count": 31,
   "id": "2b159074",
   "metadata": {},
   "outputs": [],
   "source": [
    "tweetsToken = [tkn.tokenize(twt) for twt in tweetsNoUrl]"
   ]
  },
  {
   "cell_type": "code",
   "execution_count": 32,
   "id": "ae6a3b2b",
   "metadata": {},
   "outputs": [
    {
     "data": {
      "text/plain": [
       "[['when',\n",
       "  'a',\n",
       "  'father',\n",
       "  'is',\n",
       "  'dysfunctional',\n",
       "  'and',\n",
       "  'is',\n",
       "  'so',\n",
       "  'selfish',\n",
       "  'he',\n",
       "  'drags',\n",
       "  'his',\n",
       "  'kids',\n",
       "  'into',\n",
       "  'his',\n",
       "  'dysfunction',\n",
       "  '.',\n",
       "  '#run']]"
      ]
     },
     "execution_count": 32,
     "metadata": {},
     "output_type": "execute_result"
    }
   ],
   "source": [
    "tweetsToken[0:1]"
   ]
  },
  {
   "cell_type": "markdown",
   "id": "dbaba406",
   "metadata": {},
   "source": [
    "### 3.5 Remove punctuations and stop words and other redundant terms tike 'rt', 'amp'¶"
   ]
  },
  {
   "cell_type": "markdown",
   "id": "6db1ddeb",
   "metadata": {},
   "source": [
    "Also remove hashtags"
   ]
  },
  {
   "cell_type": "code",
   "execution_count": 36,
   "id": "7ee894a0",
   "metadata": {},
   "outputs": [],
   "source": [
    "from nltk.corpus import stopwords\n",
    "from string import punctuation"
   ]
  },
  {
   "cell_type": "code",
   "execution_count": 38,
   "id": "ea05a4f5",
   "metadata": {},
   "outputs": [],
   "source": [
    "stop_nltk = stopwords.words('english')\n",
    "stop_punctn = list(punctuation)"
   ]
  },
  {
   "cell_type": "code",
   "execution_count": 39,
   "id": "18871191",
   "metadata": {},
   "outputs": [],
   "source": [
    "stop_punctn.extend(['...', '``', \"''\", \"..\"])"
   ]
  },
  {
   "cell_type": "code",
   "execution_count": 40,
   "id": "30b9f251",
   "metadata": {},
   "outputs": [],
   "source": [
    "stop_context = ['rt', 'amp']"
   ]
  },
  {
   "cell_type": "code",
   "execution_count": 42,
   "id": "ef1ef607",
   "metadata": {},
   "outputs": [],
   "source": [
    "stop_final =stop_nltk + stop_punctn + stop_context"
   ]
  },
  {
   "cell_type": "markdown",
   "id": "00ba76a8",
   "metadata": {},
   "source": [
    "Funtion to\n",
    "        remove stop words from a single tokenized sentence\n",
    "        remove # tags\n",
    "        remove terms with length = 1"
   ]
  },
  {
   "cell_type": "code",
   "execution_count": 45,
   "id": "b1a545e4",
   "metadata": {},
   "outputs": [],
   "source": [
    "def del_stop(sent):\n",
    "    return [re.sub(\"#\",\"\",term) for term in sent if ((term not in stop_final) & (len(term)>1))]"
   ]
  },
  {
   "cell_type": "code",
   "execution_count": 46,
   "id": "b484d4ef",
   "metadata": {},
   "outputs": [
    {
     "data": {
      "text/plain": [
       "['factsguide', 'society', 'motivation']"
      ]
     },
     "execution_count": 46,
     "metadata": {},
     "output_type": "execute_result"
    }
   ],
   "source": [
    "del_stop(tweetsToken[4])"
   ]
  },
  {
   "cell_type": "code",
   "execution_count": 49,
   "id": "211ac805",
   "metadata": {},
   "outputs": [],
   "source": [
    "tweetClean = [del_stop(twt) for twt in tweetsToken]"
   ]
  },
  {
   "cell_type": "code",
   "execution_count": 50,
   "id": "3be4c8f0",
   "metadata": {},
   "outputs": [
    {
     "data": {
      "text/plain": [
       "[['father', 'dysfunctional', 'selfish', 'drags', 'kids', 'dysfunction', 'run'],\n",
       " ['thanks',\n",
       "  'lyft',\n",
       "  'credit',\n",
       "  \"can't\",\n",
       "  'use',\n",
       "  'cause',\n",
       "  'offer',\n",
       "  'wheelchair',\n",
       "  'vans',\n",
       "  'pdx',\n",
       "  'disapointed',\n",
       "  'getthanked'],\n",
       " ['bihday', 'majesty'],\n",
       " ['model', 'love', 'take', 'time', 'urð'],\n",
       " ['factsguide', 'society', 'motivation']]"
      ]
     },
     "execution_count": 50,
     "metadata": {},
     "output_type": "execute_result"
    }
   ],
   "source": [
    "tweetClean[0:5]"
   ]
  },
  {
   "cell_type": "markdown",
   "id": "a63c76d6",
   "metadata": {},
   "source": [
    "### 5. Check out the top terms in the tweets:"
   ]
  },
  {
   "cell_type": "code",
   "execution_count": 53,
   "id": "dc337e57",
   "metadata": {},
   "outputs": [],
   "source": [
    "from collections import Counter"
   ]
  },
  {
   "cell_type": "code",
   "execution_count": 56,
   "id": "4fbf225f",
   "metadata": {},
   "outputs": [],
   "source": [
    "term_list = []\n",
    "for twt in tweetClean:\n",
    "    term_list.extend(twt)"
   ]
  },
  {
   "cell_type": "code",
   "execution_count": 58,
   "id": "f1e9456a",
   "metadata": {},
   "outputs": [
    {
     "data": {
      "text/plain": [
       "[('love', 2748),\n",
       " ('day', 2276),\n",
       " ('happy', 1684),\n",
       " ('time', 1131),\n",
       " ('life', 1118),\n",
       " ('like', 1047),\n",
       " (\"i'm\", 1018),\n",
       " ('today', 1013),\n",
       " ('new', 994),\n",
       " ('thankful', 946)]"
      ]
     },
     "execution_count": 58,
     "metadata": {},
     "output_type": "execute_result"
    }
   ],
   "source": [
    "res = Counter(term_list)\n",
    "res.most_common(10)"
   ]
  },
  {
   "cell_type": "markdown",
   "id": "a9daa90d",
   "metadata": {},
   "source": [
    "### 6. Data formatting for predictive modeling:"
   ]
  },
  {
   "cell_type": "markdown",
   "id": "2d41768d",
   "metadata": {},
   "source": [
    "#### 6.1 Join the tokens back into strings"
   ]
  },
  {
   "cell_type": "code",
   "execution_count": 61,
   "id": "5166b31a",
   "metadata": {},
   "outputs": [
    {
     "data": {
      "text/plain": [
       "['father', 'dysfunctional', 'selfish', 'drags', 'kids', 'dysfunction', 'run']"
      ]
     },
     "execution_count": 61,
     "metadata": {},
     "output_type": "execute_result"
    }
   ],
   "source": [
    "tweetClean[0]"
   ]
  },
  {
   "cell_type": "code",
   "execution_count": 89,
   "id": "55038b7e",
   "metadata": {},
   "outputs": [],
   "source": [
    "tweetCleanJoined = [\"\".join(twt) for twt in tweetClean]"
   ]
  },
  {
   "cell_type": "code",
   "execution_count": 90,
   "id": "a5d51f07",
   "metadata": {},
   "outputs": [
    {
     "data": {
      "text/plain": [
       "'father dysfunctional selfish drags kids dysfunction run'"
      ]
     },
     "execution_count": 90,
     "metadata": {},
     "output_type": "execute_result"
    }
   ],
   "source": [
    "tweetCleanJoined[0]"
   ]
  },
  {
   "cell_type": "markdown",
   "id": "b63aa83c",
   "metadata": {},
   "source": [
    "#### 6.2 Separate X and Y and perform train test split, 70-30"
   ]
  },
  {
   "cell_type": "code",
   "execution_count": 91,
   "id": "9d61de99",
   "metadata": {},
   "outputs": [
    {
     "data": {
      "text/plain": [
       "31962"
      ]
     },
     "execution_count": 91,
     "metadata": {},
     "output_type": "execute_result"
    }
   ],
   "source": [
    "len(tweetCleanJoined)"
   ]
  },
  {
   "cell_type": "code",
   "execution_count": 92,
   "id": "5e58a659",
   "metadata": {},
   "outputs": [
    {
     "data": {
      "text/plain": [
       "31962"
      ]
     },
     "execution_count": 92,
     "metadata": {},
     "output_type": "execute_result"
    }
   ],
   "source": [
    "len(inp_tweets.label)"
   ]
  },
  {
   "cell_type": "code",
   "execution_count": 93,
   "id": "d0c964c0",
   "metadata": {},
   "outputs": [],
   "source": [
    "X = tweetCleanJoined\n",
    "y = inp_tweets.label.values"
   ]
  },
  {
   "cell_type": "markdown",
   "id": "78bb8033",
   "metadata": {},
   "source": [
    "Train test split"
   ]
  },
  {
   "cell_type": "code",
   "execution_count": 94,
   "id": "88a4d7ba",
   "metadata": {},
   "outputs": [],
   "source": [
    "from sklearn.model_selection import train_test_split\n",
    "X_train, X_test, y_train, y_test = train_test_split(X, y, test_size = 0.3, random_state=42)"
   ]
  },
  {
   "cell_type": "code",
   "execution_count": 95,
   "id": "7fd2d55c",
   "metadata": {},
   "outputs": [
    {
     "name": "stdout",
     "output_type": "stream",
     "text": [
      "22373 9589\n",
      "22373 9589\n"
     ]
    }
   ],
   "source": [
    "print(len(X_train), len(X_test))\n",
    "print(len(y_train), len(y_test))"
   ]
  },
  {
   "cell_type": "markdown",
   "id": "c3743fed",
   "metadata": {},
   "source": [
    "### 7. Use TF-IDF values for the terms as a feature to get into a vector space model."
   ]
  },
  {
   "cell_type": "code",
   "execution_count": 96,
   "id": "517ab6b2",
   "metadata": {},
   "outputs": [],
   "source": [
    "# Import TF-IDF  vectorizer from sklearn. \n",
    "from sklearn.feature_extraction.text import TfidfVectorizer"
   ]
  },
  {
   "cell_type": "code",
   "execution_count": 97,
   "id": "a5e34a3a",
   "metadata": {},
   "outputs": [],
   "source": [
    "#Instantiate with a maximum of 5000 terms in your vocabulary.\n",
    "vectorizer = TfidfVectorizer(max_features=5000)"
   ]
  },
  {
   "cell_type": "code",
   "execution_count": 98,
   "id": "540be97c",
   "metadata": {},
   "outputs": [
    {
     "data": {
      "text/plain": [
       "(22373, 9589)"
      ]
     },
     "execution_count": 98,
     "metadata": {},
     "output_type": "execute_result"
    }
   ],
   "source": [
    "# Train Model\n",
    "len(X_train), len(X_test)"
   ]
  },
  {
   "cell_type": "code",
   "execution_count": 99,
   "id": "55e0bece",
   "metadata": {},
   "outputs": [],
   "source": [
    "X_train_bow = vectorizer.fit_transform(X_train)\n",
    "X_test_bow = vectorizer.transform(X_test)"
   ]
  },
  {
   "cell_type": "code",
   "execution_count": 100,
   "id": "1c71219c",
   "metadata": {},
   "outputs": [
    {
     "data": {
      "text/plain": [
       "((22373, 5000), (9589, 5000))"
      ]
     },
     "execution_count": 100,
     "metadata": {},
     "output_type": "execute_result"
    }
   ],
   "source": [
    "X_train_bow.shape, X_test_bow.shape"
   ]
  },
  {
   "cell_type": "markdown",
   "id": "e6c1441a",
   "metadata": {},
   "source": [
    "### 8. Model building: Ordinary Logistic Regression"
   ]
  },
  {
   "cell_type": "code",
   "execution_count": 101,
   "id": "fd114580",
   "metadata": {},
   "outputs": [],
   "source": [
    "from sklearn.linear_model import LogisticRegression"
   ]
  },
  {
   "cell_type": "code",
   "execution_count": 102,
   "id": "6fbfd73e",
   "metadata": {},
   "outputs": [
    {
     "data": {
      "text/plain": [
       "LogisticRegression()"
      ]
     },
     "execution_count": 102,
     "metadata": {},
     "output_type": "execute_result"
    }
   ],
   "source": [
    "logReg = LogisticRegression()\n",
    "logReg.fit(X_train_bow, y_train)"
   ]
  },
  {
   "cell_type": "code",
   "execution_count": 103,
   "id": "9e9add31",
   "metadata": {},
   "outputs": [],
   "source": [
    "y_train_pred = logReg.predict(X_train_bow)\n",
    "y_test_pred = logReg.predict(X_test_bow)"
   ]
  },
  {
   "cell_type": "markdown",
   "id": "0a298c41",
   "metadata": {},
   "source": [
    "### 9. Model evaluation: Accuracy, recall, and f_1 score."
   ]
  },
  {
   "cell_type": "code",
   "execution_count": 104,
   "id": "6005cf8a",
   "metadata": {},
   "outputs": [],
   "source": [
    "from sklearn.metrics import accuracy_score, classification_report"
   ]
  },
  {
   "cell_type": "code",
   "execution_count": 105,
   "id": "a558b289",
   "metadata": {},
   "outputs": [
    {
     "data": {
      "text/plain": [
       "0.9560184150538595"
      ]
     },
     "execution_count": 105,
     "metadata": {},
     "output_type": "execute_result"
    }
   ],
   "source": [
    "accuracy_score(y_train, y_train_pred)"
   ]
  },
  {
   "cell_type": "code",
   "execution_count": 107,
   "id": "a32e6200",
   "metadata": {},
   "outputs": [
    {
     "name": "stdout",
     "output_type": "stream",
     "text": [
      "              precision    recall  f1-score   support\n",
      "\n",
      "           0       0.96      1.00      0.98     20815\n",
      "           1       0.96      0.39      0.55      1558\n",
      "\n",
      "    accuracy                           0.96     22373\n",
      "   macro avg       0.96      0.69      0.76     22373\n",
      "weighted avg       0.96      0.96      0.95     22373\n",
      "\n"
     ]
    }
   ],
   "source": [
    "print(classification_report(y_train, y_train_pred))"
   ]
  },
  {
   "cell_type": "markdown",
   "id": "49843606",
   "metadata": {},
   "source": [
    "Looking at precision recall and f1-score values model seems to focus on '0'"
   ]
  },
  {
   "cell_type": "markdown",
   "id": "ab6ebc47",
   "metadata": {},
   "source": [
    "### 9. adjust the class imbalance, as the model seems to focus on the 0s."
   ]
  },
  {
   "cell_type": "code",
   "execution_count": 108,
   "id": "dd9e93dd",
   "metadata": {},
   "outputs": [
    {
     "data": {
      "text/plain": [
       "LogisticRegression(class_weight='balanced')"
      ]
     },
     "execution_count": 108,
     "metadata": {},
     "output_type": "execute_result"
    }
   ],
   "source": [
    "logRegBal = LogisticRegression(class_weight = 'balanced')\n",
    "logRegBal.fit(X_train_bow, y_train)"
   ]
  },
  {
   "cell_type": "code",
   "execution_count": 109,
   "id": "a2061a01",
   "metadata": {},
   "outputs": [],
   "source": [
    "y_train_pred = logRegBal.predict(X_train_bow)\n",
    "y_test_pred = logRegBal.predict(X_test_bow)"
   ]
  },
  {
   "cell_type": "code",
   "execution_count": 110,
   "id": "9e65ef78",
   "metadata": {},
   "outputs": [
    {
     "data": {
      "text/plain": [
       "0.9527108568363652"
      ]
     },
     "execution_count": 110,
     "metadata": {},
     "output_type": "execute_result"
    }
   ],
   "source": [
    "accuracy_score(y_train, y_train_pred)"
   ]
  },
  {
   "cell_type": "code",
   "execution_count": 111,
   "id": "a10cb50c",
   "metadata": {},
   "outputs": [
    {
     "name": "stdout",
     "output_type": "stream",
     "text": [
      "              precision    recall  f1-score   support\n",
      "\n",
      "           0       1.00      0.95      0.97     20815\n",
      "           1       0.60      0.97      0.74      1558\n",
      "\n",
      "    accuracy                           0.95     22373\n",
      "   macro avg       0.80      0.96      0.86     22373\n",
      "weighted avg       0.97      0.95      0.96     22373\n",
      "\n"
     ]
    }
   ],
   "source": [
    "print(classification_report(y_train, y_train_pred))"
   ]
  },
  {
   "cell_type": "markdown",
   "id": "51e2d7ca",
   "metadata": {},
   "source": [
    "### 10. Regularization and Hyperparameter tuning:"
   ]
  },
  {
   "cell_type": "code",
   "execution_count": 117,
   "id": "b45299dc",
   "metadata": {},
   "outputs": [],
   "source": [
    "from sklearn.model_selection import GridSearchCV, StratifiedKFold"
   ]
  },
  {
   "cell_type": "code",
   "execution_count": 126,
   "id": "a7269f3c",
   "metadata": {},
   "outputs": [],
   "source": [
    "# Create the parameter grid based on the results of random search \n",
    "param_grid = {\n",
    "    'C' : [0.01, 0.1, 1, 10, 100],\n",
    "    'penalty' : [\"l1\",\"l2\"]\n",
    "}"
   ]
  },
  {
   "cell_type": "code",
   "execution_count": 127,
   "id": "26c2ed57",
   "metadata": {},
   "outputs": [],
   "source": [
    "lrModelK = LogisticRegression(class_weight = 'balanced')"
   ]
  },
  {
   "cell_type": "markdown",
   "id": "10b40861",
   "metadata": {},
   "source": [
    "Find the parameters with the best recall in cross validation.\n",
    "\n",
    "Choose ‘recall’ as the metric for scoring.\n",
    "\n",
    "Choose stratified 4 fold cross validation scheme.\n",
    "\n",
    "Fit into  the train set."
   ]
  },
  {
   "cell_type": "code",
   "execution_count": 128,
   "id": "7accc305",
   "metadata": {},
   "outputs": [],
   "source": [
    "# Instantiate the grid search model\n",
    "grid_search = GridSearchCV(estimator = lrModelK, \n",
    "                           param_grid = param_grid,\n",
    "                           cv = StratifiedKFold(4), \n",
    "                           n_jobs = -1, \n",
    "                           verbose = 1, \n",
    "                           scoring = 'recall')"
   ]
  },
  {
   "cell_type": "code",
   "execution_count": 129,
   "id": "52a12fc4",
   "metadata": {},
   "outputs": [
    {
     "name": "stdout",
     "output_type": "stream",
     "text": [
      "Fitting 4 folds for each of 10 candidates, totalling 40 fits\n"
     ]
    },
    {
     "name": "stderr",
     "output_type": "stream",
     "text": [
      "C:\\Users\\anand.khare\\Anaconda3\\lib\\site-packages\\sklearn\\model_selection\\_validation.py:372: FitFailedWarning: \n",
      "20 fits failed out of a total of 40.\n",
      "The score on these train-test partitions for these parameters will be set to nan.\n",
      "If these failures are not expected, you can try to debug them by setting error_score='raise'.\n",
      "\n",
      "Below are more details about the failures:\n",
      "--------------------------------------------------------------------------------\n",
      "20 fits failed with the following error:\n",
      "Traceback (most recent call last):\n",
      "  File \"C:\\Users\\anand.khare\\Anaconda3\\lib\\site-packages\\sklearn\\model_selection\\_validation.py\", line 680, in _fit_and_score\n",
      "    estimator.fit(X_train, y_train, **fit_params)\n",
      "  File \"C:\\Users\\anand.khare\\Anaconda3\\lib\\site-packages\\sklearn\\linear_model\\_logistic.py\", line 1461, in fit\n",
      "    solver = _check_solver(self.solver, self.penalty, self.dual)\n",
      "  File \"C:\\Users\\anand.khare\\Anaconda3\\lib\\site-packages\\sklearn\\linear_model\\_logistic.py\", line 447, in _check_solver\n",
      "    raise ValueError(\n",
      "ValueError: Solver lbfgs supports only 'l2' or 'none' penalties, got l1 penalty.\n",
      "\n",
      "  warnings.warn(some_fits_failed_message, FitFailedWarning)\n",
      "C:\\Users\\anand.khare\\Anaconda3\\lib\\site-packages\\sklearn\\model_selection\\_search.py:969: UserWarning: One or more of the test scores are non-finite: [       nan 0.70414442        nan 0.75227572        nan 0.76381254\n",
      "        nan 0.73170852        nan 0.69640927]\n",
      "  warnings.warn(\n"
     ]
    },
    {
     "data": {
      "text/plain": [
       "GridSearchCV(cv=StratifiedKFold(n_splits=4, random_state=None, shuffle=False),\n",
       "             estimator=LogisticRegression(class_weight='balanced'), n_jobs=-1,\n",
       "             param_grid={'C': [0.01, 0.1, 1, 10, 100], 'penalty': ['l1', 'l2']},\n",
       "             scoring='recall', verbose=1)"
      ]
     },
     "execution_count": 129,
     "metadata": {},
     "output_type": "execute_result"
    }
   ],
   "source": [
    "grid_search.fit(X_train_bow, y_train)"
   ]
  },
  {
   "cell_type": "code",
   "execution_count": 130,
   "id": "f378bf0b",
   "metadata": {},
   "outputs": [
    {
     "data": {
      "text/plain": [
       "LogisticRegression(C=1, class_weight='balanced')"
      ]
     },
     "execution_count": 130,
     "metadata": {},
     "output_type": "execute_result"
    }
   ],
   "source": [
    "grid_search.best_estimator_"
   ]
  },
  {
   "cell_type": "markdown",
   "id": "3f612b15",
   "metadata": {},
   "source": [
    "### 11. Predict and evaluate using the best estimator.\n",
    "\n",
    "Use the best estimator from the grid search to make predictions on the test set.\n",
    "\n",
    "What is the recall on the test set for the toxic comments?\n",
    "\n",
    "What is the f_1 score?"
   ]
  },
  {
   "cell_type": "code",
   "execution_count": 131,
   "id": "f343d9ff",
   "metadata": {},
   "outputs": [],
   "source": [
    "y_test_pred = grid_search.best_estimator_.predict(X_test_bow)"
   ]
  },
  {
   "cell_type": "code",
   "execution_count": 132,
   "id": "cd8d2576",
   "metadata": {},
   "outputs": [],
   "source": [
    "y_train_pred = grid_search.best_estimator_.predict(X_train_bow)"
   ]
  },
  {
   "cell_type": "code",
   "execution_count": 135,
   "id": "4babff13",
   "metadata": {},
   "outputs": [
    {
     "name": "stdout",
     "output_type": "stream",
     "text": [
      "              precision    recall  f1-score   support\n",
      "\n",
      "           0       1.00      0.95      0.97     20815\n",
      "           1       0.60      0.97      0.74      1558\n",
      "\n",
      "    accuracy                           0.95     22373\n",
      "   macro avg       0.80      0.96      0.86     22373\n",
      "weighted avg       0.97      0.95      0.96     22373\n",
      "\n"
     ]
    }
   ],
   "source": [
    "print(classification_report(y_train, y_train_pred))"
   ]
  },
  {
   "cell_type": "code",
   "execution_count": 133,
   "id": "259fe579",
   "metadata": {},
   "outputs": [
    {
     "name": "stdout",
     "output_type": "stream",
     "text": [
      "              precision    recall  f1-score   support\n",
      "\n",
      "           0       0.98      0.94      0.96      8905\n",
      "           1       0.49      0.77      0.60       684\n",
      "\n",
      "    accuracy                           0.93      9589\n",
      "   macro avg       0.73      0.85      0.78      9589\n",
      "weighted avg       0.95      0.93      0.93      9589\n",
      "\n"
     ]
    }
   ],
   "source": [
    "print(classification_report(y_test, y_test_pred))"
   ]
  },
  {
   "cell_type": "code",
   "execution_count": null,
   "id": "64aa76e3",
   "metadata": {},
   "outputs": [],
   "source": []
  }
 ],
 "metadata": {
  "kernelspec": {
   "display_name": "Python 3 (ipykernel)",
   "language": "python",
   "name": "python3"
  },
  "language_info": {
   "codemirror_mode": {
    "name": "ipython",
    "version": 3
   },
   "file_extension": ".py",
   "mimetype": "text/x-python",
   "name": "python",
   "nbconvert_exporter": "python",
   "pygments_lexer": "ipython3",
   "version": "3.9.7"
  }
 },
 "nbformat": 4,
 "nbformat_minor": 5
}
