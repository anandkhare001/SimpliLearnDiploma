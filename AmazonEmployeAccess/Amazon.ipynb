{
 "cells": [
  {
   "cell_type": "code",
   "execution_count": 47,
   "id": "b913216e",
   "metadata": {},
   "outputs": [],
   "source": [
    "import pandas as pd\n",
    "from sklearn.model_selection import train_test_split\n",
    "from sklearn.metrics import accuracy_score, confusion_matrix, f1_score\n",
    "import matplotlib.pyplot as plt\n",
    "import seaborn as sns\n",
    "%matplotlib inline"
   ]
  },
  {
   "cell_type": "code",
   "execution_count": 3,
   "id": "0fd83a28",
   "metadata": {},
   "outputs": [
    {
     "name": "stdout",
     "output_type": "stream",
     "text": [
      "(32769, 10)\n",
      "(912363, 10)\n"
     ]
    }
   ],
   "source": [
    "# import train and test data\n",
    "dfTrain = pd.read_csv('amazon_train.csv')\n",
    "dfTest = pd.read_csv('amazon_test.csv')\n",
    "print(dfTrain.shape)\n",
    "print(dfTest.shape)"
   ]
  },
  {
   "cell_type": "code",
   "execution_count": 4,
   "id": "32942574",
   "metadata": {},
   "outputs": [
    {
     "data": {
      "text/plain": [
       "Index(['ACTION', 'RESOURCE', 'MGR_ID', 'ROLE_ROLLUP_1', 'ROLE_ROLLUP_2',\n",
       "       'ROLE_DEPTNAME', 'ROLE_TITLE', 'ROLE_FAMILY_DESC', 'ROLE_FAMILY',\n",
       "       'ROLE_CODE'],\n",
       "      dtype='object')"
      ]
     },
     "execution_count": 4,
     "metadata": {},
     "output_type": "execute_result"
    }
   ],
   "source": [
    "dfTrain.columns"
   ]
  },
  {
   "cell_type": "code",
   "execution_count": 5,
   "id": "e2d15c18",
   "metadata": {},
   "outputs": [
    {
     "data": {
      "text/plain": [
       "Index(['id', 'RESOURCE', 'MGR_ID', 'ROLE_ROLLUP_1', 'ROLE_ROLLUP_2',\n",
       "       'ROLE_DEPTNAME', 'ROLE_TITLE', 'ROLE_FAMILY_DESC', 'ROLE_FAMILY',\n",
       "       'ROLE_CODE'],\n",
       "      dtype='object')"
      ]
     },
     "execution_count": 5,
     "metadata": {},
     "output_type": "execute_result"
    }
   ],
   "source": [
    "dfTest.columns"
   ]
  },
  {
   "cell_type": "code",
   "execution_count": 6,
   "id": "5f2dee44",
   "metadata": {},
   "outputs": [],
   "source": [
    "# EDA"
   ]
  },
  {
   "cell_type": "code",
   "execution_count": 7,
   "id": "ff057add",
   "metadata": {},
   "outputs": [
    {
     "name": "stdout",
     "output_type": "stream",
     "text": [
      "<class 'pandas.core.frame.DataFrame'>\n",
      "RangeIndex: 32769 entries, 0 to 32768\n",
      "Data columns (total 10 columns):\n",
      " #   Column            Non-Null Count  Dtype\n",
      "---  ------            --------------  -----\n",
      " 0   ACTION            32769 non-null  int64\n",
      " 1   RESOURCE          32769 non-null  int64\n",
      " 2   MGR_ID            32769 non-null  int64\n",
      " 3   ROLE_ROLLUP_1     32769 non-null  int64\n",
      " 4   ROLE_ROLLUP_2     32769 non-null  int64\n",
      " 5   ROLE_DEPTNAME     32769 non-null  int64\n",
      " 6   ROLE_TITLE        32769 non-null  int64\n",
      " 7   ROLE_FAMILY_DESC  32769 non-null  int64\n",
      " 8   ROLE_FAMILY       32769 non-null  int64\n",
      " 9   ROLE_CODE         32769 non-null  int64\n",
      "dtypes: int64(10)\n",
      "memory usage: 2.5 MB\n"
     ]
    }
   ],
   "source": [
    "dfTrain.info()"
   ]
  },
  {
   "cell_type": "code",
   "execution_count": 11,
   "id": "53c1ebb3",
   "metadata": {},
   "outputs": [
    {
     "data": {
      "text/html": [
       "<div>\n",
       "<style scoped>\n",
       "    .dataframe tbody tr th:only-of-type {\n",
       "        vertical-align: middle;\n",
       "    }\n",
       "\n",
       "    .dataframe tbody tr th {\n",
       "        vertical-align: top;\n",
       "    }\n",
       "\n",
       "    .dataframe thead th {\n",
       "        text-align: right;\n",
       "    }\n",
       "</style>\n",
       "<table border=\"1\" class=\"dataframe\">\n",
       "  <thead>\n",
       "    <tr style=\"text-align: right;\">\n",
       "      <th></th>\n",
       "      <th>ACTION</th>\n",
       "      <th>RESOURCE</th>\n",
       "      <th>MGR_ID</th>\n",
       "      <th>ROLE_ROLLUP_1</th>\n",
       "      <th>ROLE_ROLLUP_2</th>\n",
       "      <th>ROLE_DEPTNAME</th>\n",
       "      <th>ROLE_TITLE</th>\n",
       "      <th>ROLE_FAMILY_DESC</th>\n",
       "      <th>ROLE_FAMILY</th>\n",
       "      <th>ROLE_CODE</th>\n",
       "    </tr>\n",
       "  </thead>\n",
       "  <tbody>\n",
       "    <tr>\n",
       "      <th>0</th>\n",
       "      <td>1</td>\n",
       "      <td>39353</td>\n",
       "      <td>85475</td>\n",
       "      <td>117961</td>\n",
       "      <td>118300</td>\n",
       "      <td>123472</td>\n",
       "      <td>117905</td>\n",
       "      <td>117906</td>\n",
       "      <td>290919</td>\n",
       "      <td>117908</td>\n",
       "    </tr>\n",
       "    <tr>\n",
       "      <th>1</th>\n",
       "      <td>1</td>\n",
       "      <td>17183</td>\n",
       "      <td>1540</td>\n",
       "      <td>117961</td>\n",
       "      <td>118343</td>\n",
       "      <td>123125</td>\n",
       "      <td>118536</td>\n",
       "      <td>118536</td>\n",
       "      <td>308574</td>\n",
       "      <td>118539</td>\n",
       "    </tr>\n",
       "    <tr>\n",
       "      <th>2</th>\n",
       "      <td>1</td>\n",
       "      <td>36724</td>\n",
       "      <td>14457</td>\n",
       "      <td>118219</td>\n",
       "      <td>118220</td>\n",
       "      <td>117884</td>\n",
       "      <td>117879</td>\n",
       "      <td>267952</td>\n",
       "      <td>19721</td>\n",
       "      <td>117880</td>\n",
       "    </tr>\n",
       "    <tr>\n",
       "      <th>3</th>\n",
       "      <td>1</td>\n",
       "      <td>36135</td>\n",
       "      <td>5396</td>\n",
       "      <td>117961</td>\n",
       "      <td>118343</td>\n",
       "      <td>119993</td>\n",
       "      <td>118321</td>\n",
       "      <td>240983</td>\n",
       "      <td>290919</td>\n",
       "      <td>118322</td>\n",
       "    </tr>\n",
       "    <tr>\n",
       "      <th>4</th>\n",
       "      <td>1</td>\n",
       "      <td>42680</td>\n",
       "      <td>5905</td>\n",
       "      <td>117929</td>\n",
       "      <td>117930</td>\n",
       "      <td>119569</td>\n",
       "      <td>119323</td>\n",
       "      <td>123932</td>\n",
       "      <td>19793</td>\n",
       "      <td>119325</td>\n",
       "    </tr>\n",
       "  </tbody>\n",
       "</table>\n",
       "</div>"
      ],
      "text/plain": [
       "   ACTION  RESOURCE  MGR_ID  ROLE_ROLLUP_1  ROLE_ROLLUP_2  ROLE_DEPTNAME  \\\n",
       "0       1     39353   85475         117961         118300         123472   \n",
       "1       1     17183    1540         117961         118343         123125   \n",
       "2       1     36724   14457         118219         118220         117884   \n",
       "3       1     36135    5396         117961         118343         119993   \n",
       "4       1     42680    5905         117929         117930         119569   \n",
       "\n",
       "   ROLE_TITLE  ROLE_FAMILY_DESC  ROLE_FAMILY  ROLE_CODE  \n",
       "0      117905            117906       290919     117908  \n",
       "1      118536            118536       308574     118539  \n",
       "2      117879            267952        19721     117880  \n",
       "3      118321            240983       290919     118322  \n",
       "4      119323            123932        19793     119325  "
      ]
     },
     "execution_count": 11,
     "metadata": {},
     "output_type": "execute_result"
    }
   ],
   "source": [
    "dfTrain.head()"
   ]
  },
  {
   "cell_type": "code",
   "execution_count": 9,
   "id": "3b9c6173",
   "metadata": {},
   "outputs": [
    {
     "data": {
      "text/html": [
       "<div>\n",
       "<style scoped>\n",
       "    .dataframe tbody tr th:only-of-type {\n",
       "        vertical-align: middle;\n",
       "    }\n",
       "\n",
       "    .dataframe tbody tr th {\n",
       "        vertical-align: top;\n",
       "    }\n",
       "\n",
       "    .dataframe thead th {\n",
       "        text-align: right;\n",
       "    }\n",
       "</style>\n",
       "<table border=\"1\" class=\"dataframe\">\n",
       "  <thead>\n",
       "    <tr style=\"text-align: right;\">\n",
       "      <th></th>\n",
       "      <th>ACTION</th>\n",
       "      <th>RESOURCE</th>\n",
       "      <th>MGR_ID</th>\n",
       "      <th>ROLE_ROLLUP_1</th>\n",
       "      <th>ROLE_ROLLUP_2</th>\n",
       "      <th>ROLE_DEPTNAME</th>\n",
       "      <th>ROLE_TITLE</th>\n",
       "      <th>ROLE_FAMILY_DESC</th>\n",
       "      <th>ROLE_FAMILY</th>\n",
       "      <th>ROLE_CODE</th>\n",
       "    </tr>\n",
       "  </thead>\n",
       "  <tbody>\n",
       "    <tr>\n",
       "      <th>count</th>\n",
       "      <td>32769.000000</td>\n",
       "      <td>32769.000000</td>\n",
       "      <td>32769.000000</td>\n",
       "      <td>32769.000000</td>\n",
       "      <td>32769.000000</td>\n",
       "      <td>32769.000000</td>\n",
       "      <td>32769.000000</td>\n",
       "      <td>32769.000000</td>\n",
       "      <td>32769.000000</td>\n",
       "      <td>32769.000000</td>\n",
       "    </tr>\n",
       "    <tr>\n",
       "      <th>mean</th>\n",
       "      <td>0.942110</td>\n",
       "      <td>42923.916171</td>\n",
       "      <td>25988.957979</td>\n",
       "      <td>116952.627788</td>\n",
       "      <td>118301.823156</td>\n",
       "      <td>118912.779914</td>\n",
       "      <td>125916.152644</td>\n",
       "      <td>170178.369648</td>\n",
       "      <td>183703.408893</td>\n",
       "      <td>119789.430132</td>\n",
       "    </tr>\n",
       "    <tr>\n",
       "      <th>std</th>\n",
       "      <td>0.233539</td>\n",
       "      <td>34173.892702</td>\n",
       "      <td>35928.031650</td>\n",
       "      <td>10875.563591</td>\n",
       "      <td>4551.588572</td>\n",
       "      <td>18961.322917</td>\n",
       "      <td>31036.465825</td>\n",
       "      <td>69509.462130</td>\n",
       "      <td>100488.407413</td>\n",
       "      <td>5784.275516</td>\n",
       "    </tr>\n",
       "    <tr>\n",
       "      <th>min</th>\n",
       "      <td>0.000000</td>\n",
       "      <td>0.000000</td>\n",
       "      <td>25.000000</td>\n",
       "      <td>4292.000000</td>\n",
       "      <td>23779.000000</td>\n",
       "      <td>4674.000000</td>\n",
       "      <td>117879.000000</td>\n",
       "      <td>4673.000000</td>\n",
       "      <td>3130.000000</td>\n",
       "      <td>117880.000000</td>\n",
       "    </tr>\n",
       "    <tr>\n",
       "      <th>25%</th>\n",
       "      <td>1.000000</td>\n",
       "      <td>20299.000000</td>\n",
       "      <td>4566.000000</td>\n",
       "      <td>117961.000000</td>\n",
       "      <td>118102.000000</td>\n",
       "      <td>118395.000000</td>\n",
       "      <td>118274.000000</td>\n",
       "      <td>117906.000000</td>\n",
       "      <td>118363.000000</td>\n",
       "      <td>118232.000000</td>\n",
       "    </tr>\n",
       "    <tr>\n",
       "      <th>50%</th>\n",
       "      <td>1.000000</td>\n",
       "      <td>35376.000000</td>\n",
       "      <td>13545.000000</td>\n",
       "      <td>117961.000000</td>\n",
       "      <td>118300.000000</td>\n",
       "      <td>118921.000000</td>\n",
       "      <td>118568.000000</td>\n",
       "      <td>128696.000000</td>\n",
       "      <td>119006.000000</td>\n",
       "      <td>118570.000000</td>\n",
       "    </tr>\n",
       "    <tr>\n",
       "      <th>75%</th>\n",
       "      <td>1.000000</td>\n",
       "      <td>74189.000000</td>\n",
       "      <td>42034.000000</td>\n",
       "      <td>117961.000000</td>\n",
       "      <td>118386.000000</td>\n",
       "      <td>120535.000000</td>\n",
       "      <td>120006.000000</td>\n",
       "      <td>235280.000000</td>\n",
       "      <td>290919.000000</td>\n",
       "      <td>119348.000000</td>\n",
       "    </tr>\n",
       "    <tr>\n",
       "      <th>max</th>\n",
       "      <td>1.000000</td>\n",
       "      <td>312153.000000</td>\n",
       "      <td>311696.000000</td>\n",
       "      <td>311178.000000</td>\n",
       "      <td>286791.000000</td>\n",
       "      <td>286792.000000</td>\n",
       "      <td>311867.000000</td>\n",
       "      <td>311867.000000</td>\n",
       "      <td>308574.000000</td>\n",
       "      <td>270691.000000</td>\n",
       "    </tr>\n",
       "  </tbody>\n",
       "</table>\n",
       "</div>"
      ],
      "text/plain": [
       "             ACTION       RESOURCE         MGR_ID  ROLE_ROLLUP_1  \\\n",
       "count  32769.000000   32769.000000   32769.000000   32769.000000   \n",
       "mean       0.942110   42923.916171   25988.957979  116952.627788   \n",
       "std        0.233539   34173.892702   35928.031650   10875.563591   \n",
       "min        0.000000       0.000000      25.000000    4292.000000   \n",
       "25%        1.000000   20299.000000    4566.000000  117961.000000   \n",
       "50%        1.000000   35376.000000   13545.000000  117961.000000   \n",
       "75%        1.000000   74189.000000   42034.000000  117961.000000   \n",
       "max        1.000000  312153.000000  311696.000000  311178.000000   \n",
       "\n",
       "       ROLE_ROLLUP_2  ROLE_DEPTNAME     ROLE_TITLE  ROLE_FAMILY_DESC  \\\n",
       "count   32769.000000   32769.000000   32769.000000      32769.000000   \n",
       "mean   118301.823156  118912.779914  125916.152644     170178.369648   \n",
       "std      4551.588572   18961.322917   31036.465825      69509.462130   \n",
       "min     23779.000000    4674.000000  117879.000000       4673.000000   \n",
       "25%    118102.000000  118395.000000  118274.000000     117906.000000   \n",
       "50%    118300.000000  118921.000000  118568.000000     128696.000000   \n",
       "75%    118386.000000  120535.000000  120006.000000     235280.000000   \n",
       "max    286791.000000  286792.000000  311867.000000     311867.000000   \n",
       "\n",
       "         ROLE_FAMILY      ROLE_CODE  \n",
       "count   32769.000000   32769.000000  \n",
       "mean   183703.408893  119789.430132  \n",
       "std    100488.407413    5784.275516  \n",
       "min      3130.000000  117880.000000  \n",
       "25%    118363.000000  118232.000000  \n",
       "50%    119006.000000  118570.000000  \n",
       "75%    290919.000000  119348.000000  \n",
       "max    308574.000000  270691.000000  "
      ]
     },
     "execution_count": 9,
     "metadata": {},
     "output_type": "execute_result"
    }
   ],
   "source": [
    "dfTrain.describe()"
   ]
  },
  {
   "cell_type": "markdown",
   "id": "534b27d2",
   "metadata": {},
   "source": [
    "Here action is the output variable. Output is the categorical type. Hence we need classification."
   ]
  },
  {
   "cell_type": "code",
   "execution_count": 26,
   "id": "f60987e9",
   "metadata": {
    "scrolled": true
   },
   "outputs": [
    {
     "name": "stdout",
     "output_type": "stream",
     "text": [
      "2\n",
      "7518\n",
      "4243\n",
      "128\n",
      "177\n",
      "449\n",
      "343\n",
      "2358\n",
      "67\n",
      "343\n"
     ]
    }
   ],
   "source": [
    "allcolumns = dfTrain.columns\n",
    "for item in allcolumns:\n",
    "    print(dfTrain[item].nunique())"
   ]
  },
  {
   "cell_type": "code",
   "execution_count": 27,
   "id": "ec07a433",
   "metadata": {},
   "outputs": [
    {
     "name": "stdout",
     "output_type": "stream",
     "text": [
      "[1 0]\n"
     ]
    }
   ],
   "source": [
    "print(dfTrain.ACTION.unique())"
   ]
  },
  {
   "cell_type": "code",
   "execution_count": 29,
   "id": "3baa3a83",
   "metadata": {
    "scrolled": true
   },
   "outputs": [
    {
     "data": {
      "text/html": [
       "<div>\n",
       "<style scoped>\n",
       "    .dataframe tbody tr th:only-of-type {\n",
       "        vertical-align: middle;\n",
       "    }\n",
       "\n",
       "    .dataframe tbody tr th {\n",
       "        vertical-align: top;\n",
       "    }\n",
       "\n",
       "    .dataframe thead th {\n",
       "        text-align: right;\n",
       "    }\n",
       "</style>\n",
       "<table border=\"1\" class=\"dataframe\">\n",
       "  <thead>\n",
       "    <tr style=\"text-align: right;\">\n",
       "      <th></th>\n",
       "      <th>ACTION</th>\n",
       "      <th>RESOURCE</th>\n",
       "      <th>MGR_ID</th>\n",
       "      <th>ROLE_ROLLUP_1</th>\n",
       "      <th>ROLE_ROLLUP_2</th>\n",
       "      <th>ROLE_DEPTNAME</th>\n",
       "      <th>ROLE_TITLE</th>\n",
       "      <th>ROLE_FAMILY_DESC</th>\n",
       "      <th>ROLE_FAMILY</th>\n",
       "      <th>ROLE_CODE</th>\n",
       "    </tr>\n",
       "  </thead>\n",
       "  <tbody>\n",
       "    <tr>\n",
       "      <th>ACTION</th>\n",
       "      <td>1.000000</td>\n",
       "      <td>0.000185</td>\n",
       "      <td>-0.005167</td>\n",
       "      <td>-0.013702</td>\n",
       "      <td>0.005179</td>\n",
       "      <td>0.001025</td>\n",
       "      <td>-0.010169</td>\n",
       "      <td>0.003565</td>\n",
       "      <td>0.000502</td>\n",
       "      <td>0.017147</td>\n",
       "    </tr>\n",
       "    <tr>\n",
       "      <th>RESOURCE</th>\n",
       "      <td>0.000185</td>\n",
       "      <td>1.000000</td>\n",
       "      <td>0.011088</td>\n",
       "      <td>-0.005016</td>\n",
       "      <td>0.013438</td>\n",
       "      <td>0.030004</td>\n",
       "      <td>0.002936</td>\n",
       "      <td>0.021029</td>\n",
       "      <td>0.031060</td>\n",
       "      <td>0.007733</td>\n",
       "    </tr>\n",
       "    <tr>\n",
       "      <th>MGR_ID</th>\n",
       "      <td>-0.005167</td>\n",
       "      <td>0.011088</td>\n",
       "      <td>1.000000</td>\n",
       "      <td>-0.007132</td>\n",
       "      <td>-0.000364</td>\n",
       "      <td>-0.009551</td>\n",
       "      <td>0.017864</td>\n",
       "      <td>-0.018488</td>\n",
       "      <td>-0.118254</td>\n",
       "      <td>-0.004067</td>\n",
       "    </tr>\n",
       "    <tr>\n",
       "      <th>ROLE_ROLLUP_1</th>\n",
       "      <td>-0.013702</td>\n",
       "      <td>-0.005016</td>\n",
       "      <td>-0.007132</td>\n",
       "      <td>1.000000</td>\n",
       "      <td>0.033358</td>\n",
       "      <td>-0.009548</td>\n",
       "      <td>0.010207</td>\n",
       "      <td>-0.007546</td>\n",
       "      <td>0.029468</td>\n",
       "      <td>-0.024927</td>\n",
       "    </tr>\n",
       "    <tr>\n",
       "      <th>ROLE_ROLLUP_2</th>\n",
       "      <td>0.005179</td>\n",
       "      <td>0.013438</td>\n",
       "      <td>-0.000364</td>\n",
       "      <td>0.033358</td>\n",
       "      <td>1.000000</td>\n",
       "      <td>-0.006056</td>\n",
       "      <td>0.008305</td>\n",
       "      <td>0.018873</td>\n",
       "      <td>0.069558</td>\n",
       "      <td>0.015117</td>\n",
       "    </tr>\n",
       "    <tr>\n",
       "      <th>ROLE_DEPTNAME</th>\n",
       "      <td>0.001025</td>\n",
       "      <td>0.030004</td>\n",
       "      <td>-0.009551</td>\n",
       "      <td>-0.009548</td>\n",
       "      <td>-0.006056</td>\n",
       "      <td>1.000000</td>\n",
       "      <td>-0.006932</td>\n",
       "      <td>-0.002877</td>\n",
       "      <td>0.031669</td>\n",
       "      <td>0.010319</td>\n",
       "    </tr>\n",
       "    <tr>\n",
       "      <th>ROLE_TITLE</th>\n",
       "      <td>-0.010169</td>\n",
       "      <td>0.002936</td>\n",
       "      <td>0.017864</td>\n",
       "      <td>0.010207</td>\n",
       "      <td>0.008305</td>\n",
       "      <td>-0.006932</td>\n",
       "      <td>1.000000</td>\n",
       "      <td>0.170692</td>\n",
       "      <td>-0.012450</td>\n",
       "      <td>0.155920</td>\n",
       "    </tr>\n",
       "    <tr>\n",
       "      <th>ROLE_FAMILY_DESC</th>\n",
       "      <td>0.003565</td>\n",
       "      <td>0.021029</td>\n",
       "      <td>-0.018488</td>\n",
       "      <td>-0.007546</td>\n",
       "      <td>0.018873</td>\n",
       "      <td>-0.002877</td>\n",
       "      <td>0.170692</td>\n",
       "      <td>1.000000</td>\n",
       "      <td>-0.180596</td>\n",
       "      <td>0.092980</td>\n",
       "    </tr>\n",
       "    <tr>\n",
       "      <th>ROLE_FAMILY</th>\n",
       "      <td>0.000502</td>\n",
       "      <td>0.031060</td>\n",
       "      <td>-0.118254</td>\n",
       "      <td>0.029468</td>\n",
       "      <td>0.069558</td>\n",
       "      <td>0.031669</td>\n",
       "      <td>-0.012450</td>\n",
       "      <td>-0.180596</td>\n",
       "      <td>1.000000</td>\n",
       "      <td>-0.148625</td>\n",
       "    </tr>\n",
       "    <tr>\n",
       "      <th>ROLE_CODE</th>\n",
       "      <td>0.017147</td>\n",
       "      <td>0.007733</td>\n",
       "      <td>-0.004067</td>\n",
       "      <td>-0.024927</td>\n",
       "      <td>0.015117</td>\n",
       "      <td>0.010319</td>\n",
       "      <td>0.155920</td>\n",
       "      <td>0.092980</td>\n",
       "      <td>-0.148625</td>\n",
       "      <td>1.000000</td>\n",
       "    </tr>\n",
       "  </tbody>\n",
       "</table>\n",
       "</div>"
      ],
      "text/plain": [
       "                    ACTION  RESOURCE    MGR_ID  ROLE_ROLLUP_1  ROLE_ROLLUP_2  \\\n",
       "ACTION            1.000000  0.000185 -0.005167      -0.013702       0.005179   \n",
       "RESOURCE          0.000185  1.000000  0.011088      -0.005016       0.013438   \n",
       "MGR_ID           -0.005167  0.011088  1.000000      -0.007132      -0.000364   \n",
       "ROLE_ROLLUP_1    -0.013702 -0.005016 -0.007132       1.000000       0.033358   \n",
       "ROLE_ROLLUP_2     0.005179  0.013438 -0.000364       0.033358       1.000000   \n",
       "ROLE_DEPTNAME     0.001025  0.030004 -0.009551      -0.009548      -0.006056   \n",
       "ROLE_TITLE       -0.010169  0.002936  0.017864       0.010207       0.008305   \n",
       "ROLE_FAMILY_DESC  0.003565  0.021029 -0.018488      -0.007546       0.018873   \n",
       "ROLE_FAMILY       0.000502  0.031060 -0.118254       0.029468       0.069558   \n",
       "ROLE_CODE         0.017147  0.007733 -0.004067      -0.024927       0.015117   \n",
       "\n",
       "                  ROLE_DEPTNAME  ROLE_TITLE  ROLE_FAMILY_DESC  ROLE_FAMILY  \\\n",
       "ACTION                 0.001025   -0.010169          0.003565     0.000502   \n",
       "RESOURCE               0.030004    0.002936          0.021029     0.031060   \n",
       "MGR_ID                -0.009551    0.017864         -0.018488    -0.118254   \n",
       "ROLE_ROLLUP_1         -0.009548    0.010207         -0.007546     0.029468   \n",
       "ROLE_ROLLUP_2         -0.006056    0.008305          0.018873     0.069558   \n",
       "ROLE_DEPTNAME          1.000000   -0.006932         -0.002877     0.031669   \n",
       "ROLE_TITLE            -0.006932    1.000000          0.170692    -0.012450   \n",
       "ROLE_FAMILY_DESC      -0.002877    0.170692          1.000000    -0.180596   \n",
       "ROLE_FAMILY            0.031669   -0.012450         -0.180596     1.000000   \n",
       "ROLE_CODE              0.010319    0.155920          0.092980    -0.148625   \n",
       "\n",
       "                  ROLE_CODE  \n",
       "ACTION             0.017147  \n",
       "RESOURCE           0.007733  \n",
       "MGR_ID            -0.004067  \n",
       "ROLE_ROLLUP_1     -0.024927  \n",
       "ROLE_ROLLUP_2      0.015117  \n",
       "ROLE_DEPTNAME      0.010319  \n",
       "ROLE_TITLE         0.155920  \n",
       "ROLE_FAMILY_DESC   0.092980  \n",
       "ROLE_FAMILY       -0.148625  \n",
       "ROLE_CODE          1.000000  "
      ]
     },
     "execution_count": 29,
     "metadata": {},
     "output_type": "execute_result"
    }
   ],
   "source": [
    "# Check coorelatioin\n",
    "corr = dfTrain.corr()\n",
    "corr"
   ]
  },
  {
   "cell_type": "code",
   "execution_count": 33,
   "id": "edf44afc",
   "metadata": {},
   "outputs": [
    {
     "data": {
      "text/plain": [
       "<AxesSubplot: >"
      ]
     },
     "execution_count": 33,
     "metadata": {},
     "output_type": "execute_result"
    },
    {
     "data": {
      "image/png": "[encoded data removed]",
      "text/plain": [
       "<Figure size 640x480 with 2 Axes>"
      ]
     },
     "metadata": {},
     "output_type": "display_data"
    }
   ],
   "source": [
    "sns.heatmap(corr)"
   ]
  },
  {
   "cell_type": "code",
   "execution_count": null,
   "id": "d50849eb",
   "metadata": {},
   "outputs": [],
   "source": [
    "# Train and test data"
   ]
  },
  {
   "cell_type": "code",
   "execution_count": 16,
   "id": "bcce9705",
   "metadata": {},
   "outputs": [],
   "source": [
    "X = dfTrain.drop('ACTION',axis=1)\n",
    "Y = dfTrain['ACTION']"
   ]
  },
  {
   "cell_type": "code",
   "execution_count": 17,
   "id": "b6fe3f8a",
   "metadata": {},
   "outputs": [
    {
     "data": {
      "text/html": [
       "<div>\n",
       "<style scoped>\n",
       "    .dataframe tbody tr th:only-of-type {\n",
       "        vertical-align: middle;\n",
       "    }\n",
       "\n",
       "    .dataframe tbody tr th {\n",
       "        vertical-align: top;\n",
       "    }\n",
       "\n",
       "    .dataframe thead th {\n",
       "        text-align: right;\n",
       "    }\n",
       "</style>\n",
       "<table border=\"1\" class=\"dataframe\">\n",
       "  <thead>\n",
       "    <tr style=\"text-align: right;\">\n",
       "      <th></th>\n",
       "      <th>RESOURCE</th>\n",
       "      <th>MGR_ID</th>\n",
       "      <th>ROLE_ROLLUP_1</th>\n",
       "      <th>ROLE_ROLLUP_2</th>\n",
       "      <th>ROLE_DEPTNAME</th>\n",
       "      <th>ROLE_TITLE</th>\n",
       "      <th>ROLE_FAMILY_DESC</th>\n",
       "      <th>ROLE_FAMILY</th>\n",
       "      <th>ROLE_CODE</th>\n",
       "    </tr>\n",
       "  </thead>\n",
       "  <tbody>\n",
       "    <tr>\n",
       "      <th>0</th>\n",
       "      <td>39353</td>\n",
       "      <td>85475</td>\n",
       "      <td>117961</td>\n",
       "      <td>118300</td>\n",
       "      <td>123472</td>\n",
       "      <td>117905</td>\n",
       "      <td>117906</td>\n",
       "      <td>290919</td>\n",
       "      <td>117908</td>\n",
       "    </tr>\n",
       "    <tr>\n",
       "      <th>1</th>\n",
       "      <td>17183</td>\n",
       "      <td>1540</td>\n",
       "      <td>117961</td>\n",
       "      <td>118343</td>\n",
       "      <td>123125</td>\n",
       "      <td>118536</td>\n",
       "      <td>118536</td>\n",
       "      <td>308574</td>\n",
       "      <td>118539</td>\n",
       "    </tr>\n",
       "    <tr>\n",
       "      <th>2</th>\n",
       "      <td>36724</td>\n",
       "      <td>14457</td>\n",
       "      <td>118219</td>\n",
       "      <td>118220</td>\n",
       "      <td>117884</td>\n",
       "      <td>117879</td>\n",
       "      <td>267952</td>\n",
       "      <td>19721</td>\n",
       "      <td>117880</td>\n",
       "    </tr>\n",
       "    <tr>\n",
       "      <th>3</th>\n",
       "      <td>36135</td>\n",
       "      <td>5396</td>\n",
       "      <td>117961</td>\n",
       "      <td>118343</td>\n",
       "      <td>119993</td>\n",
       "      <td>118321</td>\n",
       "      <td>240983</td>\n",
       "      <td>290919</td>\n",
       "      <td>118322</td>\n",
       "    </tr>\n",
       "    <tr>\n",
       "      <th>4</th>\n",
       "      <td>42680</td>\n",
       "      <td>5905</td>\n",
       "      <td>117929</td>\n",
       "      <td>117930</td>\n",
       "      <td>119569</td>\n",
       "      <td>119323</td>\n",
       "      <td>123932</td>\n",
       "      <td>19793</td>\n",
       "      <td>119325</td>\n",
       "    </tr>\n",
       "  </tbody>\n",
       "</table>\n",
       "</div>"
      ],
      "text/plain": [
       "   RESOURCE  MGR_ID  ROLE_ROLLUP_1  ROLE_ROLLUP_2  ROLE_DEPTNAME  ROLE_TITLE  \\\n",
       "0     39353   85475         117961         118300         123472      117905   \n",
       "1     17183    1540         117961         118343         123125      118536   \n",
       "2     36724   14457         118219         118220         117884      117879   \n",
       "3     36135    5396         117961         118343         119993      118321   \n",
       "4     42680    5905         117929         117930         119569      119323   \n",
       "\n",
       "   ROLE_FAMILY_DESC  ROLE_FAMILY  ROLE_CODE  \n",
       "0            117906       290919     117908  \n",
       "1            118536       308574     118539  \n",
       "2            267952        19721     117880  \n",
       "3            240983       290919     118322  \n",
       "4            123932        19793     119325  "
      ]
     },
     "execution_count": 17,
     "metadata": {},
     "output_type": "execute_result"
    }
   ],
   "source": [
    "X.head()"
   ]
  },
  {
   "cell_type": "code",
   "execution_count": 18,
   "id": "39a49903",
   "metadata": {},
   "outputs": [
    {
     "data": {
      "text/plain": [
       "0    1\n",
       "1    1\n",
       "2    1\n",
       "3    1\n",
       "4    1\n",
       "Name: ACTION, dtype: int64"
      ]
     },
     "execution_count": 18,
     "metadata": {},
     "output_type": "execute_result"
    }
   ],
   "source": [
    "Y.head()"
   ]
  },
  {
   "cell_type": "code",
   "execution_count": 39,
   "id": "1ec7c99f",
   "metadata": {},
   "outputs": [],
   "source": [
    "X_train, X_test, Y_train, Y_test = train_test_split(X, Y, test_size=0.25)"
   ]
  },
  {
   "cell_type": "markdown",
   "id": "09f2f430",
   "metadata": {},
   "source": [
    "###### 1. Logistic Regression"
   ]
  },
  {
   "cell_type": "code",
   "execution_count": 48,
   "id": "dcc53d36",
   "metadata": {},
   "outputs": [
    {
     "name": "stdout",
     "output_type": "stream",
     "text": [
      "0.9451971194922495\n",
      "0.9718265671079878\n",
      "[[   0  449]\n",
      " [   0 7744]]\n"
     ]
    }
   ],
   "source": [
    "from sklearn.linear_model import LogisticRegression\n",
    "logModel = LogisticRegression()\n",
    "logModel.fit(X_train, Y_train)\n",
    "Y_pred = logModel.predict(X_test)\n",
    "print(accuracy_score(Y_test, Y_pred))\n",
    "print(f1_score(Y_test, Y_pred))\n",
    "print(confusion_matrix(Y_test, Y_pred))"
   ]
  },
  {
   "cell_type": "markdown",
   "id": "f6cce143",
   "metadata": {},
   "source": [
    "Logistic Regression give accuracy and f1_score of 93.9% and 97.2% resp, but if we look into its confusion matrix, then we can reach to the conclusion that its not good model as it predicts everything as class 1 and has not predicted any itema as class 0, so it is affected by the biasness of model"
   ]
  },
  {
   "cell_type": "markdown",
   "id": "e9e9f073",
   "metadata": {},
   "source": [
    "###### 2. Random Forest"
   ]
  },
  {
   "cell_type": "code",
   "execution_count": 50,
   "id": "63b3d09a",
   "metadata": {},
   "outputs": [
    {
     "name": "stdout",
     "output_type": "stream",
     "text": [
      "0.9512998901501282\n",
      "0.9745161908411574\n",
      "[[ 165  284]\n",
      " [ 115 7629]]\n"
     ]
    }
   ],
   "source": [
    "from sklearn.ensemble import RandomForestClassifier\n",
    "rfModel = RandomForestClassifier()\n",
    "rfModel.fit(X_train, Y_train)\n",
    "Y_predRf = rfModel.predict(X_test)\n",
    "print(accuracy_score(Y_test, Y_predRf))\n",
    "print(f1_score(Y_test, Y_predRf))\n",
    "print(confusion_matrix(Y_test, Y_predRf))"
   ]
  },
  {
   "cell_type": "markdown",
   "id": "bbe501f6",
   "metadata": {},
   "source": [
    "The improvement in accuracy from logistic regression to random forest is little but here we can see that confusion metrics shows that it has also classfied well better the the class which is having less number of examples in dataset which makes it really good method"
   ]
  },
  {
   "cell_type": "markdown",
   "id": "08360c13",
   "metadata": {},
   "source": [
    "###### 3. Ada boost Classifier"
   ]
  },
  {
   "cell_type": "code",
   "execution_count": 59,
   "id": "a7d19f85",
   "metadata": {},
   "outputs": [
    {
     "name": "stdout",
     "output_type": "stream",
     "text": [
      "0.9451971194922495\n",
      "0.9718265671079878\n",
      "[[   0  449]\n",
      " [   0 7744]]\n"
     ]
    }
   ],
   "source": [
    "from sklearn.ensemble import AdaBoostClassifier\n",
    "adaModel = AdaBoostClassifier()\n",
    "adaModel.fit(X_train, Y_train)\n",
    "Y_predAda = adaModel.predict(X_test)\n",
    "print(accuracy_score(Y_test, Y_predAda))\n",
    "print(f1_score(Y_test, Y_predAda))\n",
    "print(confusion_matrix(Y_test, Y_predAda))"
   ]
  },
  {
   "cell_type": "markdown",
   "id": "13fb243a",
   "metadata": {},
   "source": [
    "Here also problem is same as in logistic regression that it can't work well with biased class"
   ]
  },
  {
   "cell_type": "markdown",
   "id": "4a027845",
   "metadata": {},
   "source": [
    "###### 4. Gradient Boosting"
   ]
  },
  {
   "cell_type": "code",
   "execution_count": 58,
   "id": "4c82d780",
   "metadata": {},
   "outputs": [
    {
     "name": "stdout",
     "output_type": "stream",
     "text": [
      "0.9459294519711949\n",
      "0.9721890890828049\n",
      "[[   7  442]\n",
      " [   1 7743]]\n"
     ]
    }
   ],
   "source": [
    "from sklearn.ensemble import GradientBoostingClassifier\n",
    "modelGB = GradientBoostingClassifier()\n",
    "modelGB.fit(X_train, Y_train)\n",
    "Y_predGB = modelGB.predict(X_test)\n",
    "print(accuracy_score(Y_test, Y_predGB))\n",
    "print(f1_score(Y_test, Y_predGB))\n",
    "print(confusion_matrix(Y_test, Y_predGB))"
   ]
  },
  {
   "cell_type": "markdown",
   "id": "525291fa",
   "metadata": {},
   "source": [
    "This is also not giving good result compare to random forest as here also it is able to predict corectly only 7 data points of class 0 whose elements are so less.\n",
    "\n",
    "Hence the best model for our data if Random Forest."
   ]
  },
  {
   "cell_type": "markdown",
   "id": "0be54e3b",
   "metadata": {},
   "source": [
    "###### Lets execute random forest on test data as we have choosen random forest as the final model"
   ]
  },
  {
   "cell_type": "code",
   "execution_count": 61,
   "id": "aa3c60d7",
   "metadata": {},
   "outputs": [
    {
     "data": {
      "text/html": [
       "<div>\n",
       "<style scoped>\n",
       "    .dataframe tbody tr th:only-of-type {\n",
       "        vertical-align: middle;\n",
       "    }\n",
       "\n",
       "    .dataframe tbody tr th {\n",
       "        vertical-align: top;\n",
       "    }\n",
       "\n",
       "    .dataframe thead th {\n",
       "        text-align: right;\n",
       "    }\n",
       "</style>\n",
       "<table border=\"1\" class=\"dataframe\">\n",
       "  <thead>\n",
       "    <tr style=\"text-align: right;\">\n",
       "      <th></th>\n",
       "      <th>id</th>\n",
       "      <th>RESOURCE</th>\n",
       "      <th>MGR_ID</th>\n",
       "      <th>ROLE_ROLLUP_1</th>\n",
       "      <th>ROLE_ROLLUP_2</th>\n",
       "      <th>ROLE_DEPTNAME</th>\n",
       "      <th>ROLE_TITLE</th>\n",
       "      <th>ROLE_FAMILY_DESC</th>\n",
       "      <th>ROLE_FAMILY</th>\n",
       "      <th>ROLE_CODE</th>\n",
       "    </tr>\n",
       "  </thead>\n",
       "  <tbody>\n",
       "    <tr>\n",
       "      <th>0</th>\n",
       "      <td>1</td>\n",
       "      <td>32642</td>\n",
       "      <td>7792</td>\n",
       "      <td>118573</td>\n",
       "      <td>118574</td>\n",
       "      <td>117945</td>\n",
       "      <td>136261</td>\n",
       "      <td>128463</td>\n",
       "      <td>292795</td>\n",
       "      <td>119082</td>\n",
       "    </tr>\n",
       "    <tr>\n",
       "      <th>1</th>\n",
       "      <td>2</td>\n",
       "      <td>4696</td>\n",
       "      <td>14638</td>\n",
       "      <td>117961</td>\n",
       "      <td>118343</td>\n",
       "      <td>118514</td>\n",
       "      <td>118321</td>\n",
       "      <td>289122</td>\n",
       "      <td>255851</td>\n",
       "      <td>118322</td>\n",
       "    </tr>\n",
       "    <tr>\n",
       "      <th>2</th>\n",
       "      <td>3</td>\n",
       "      <td>22662</td>\n",
       "      <td>1760</td>\n",
       "      <td>118887</td>\n",
       "      <td>118888</td>\n",
       "      <td>120171</td>\n",
       "      <td>118396</td>\n",
       "      <td>255118</td>\n",
       "      <td>118398</td>\n",
       "      <td>118399</td>\n",
       "    </tr>\n",
       "    <tr>\n",
       "      <th>3</th>\n",
       "      <td>4</td>\n",
       "      <td>75078</td>\n",
       "      <td>7576</td>\n",
       "      <td>117961</td>\n",
       "      <td>118052</td>\n",
       "      <td>120671</td>\n",
       "      <td>118321</td>\n",
       "      <td>117906</td>\n",
       "      <td>257051</td>\n",
       "      <td>118322</td>\n",
       "    </tr>\n",
       "    <tr>\n",
       "      <th>4</th>\n",
       "      <td>5</td>\n",
       "      <td>39879</td>\n",
       "      <td>55668</td>\n",
       "      <td>117902</td>\n",
       "      <td>118041</td>\n",
       "      <td>117945</td>\n",
       "      <td>135951</td>\n",
       "      <td>134458</td>\n",
       "      <td>19776</td>\n",
       "      <td>119082</td>\n",
       "    </tr>\n",
       "  </tbody>\n",
       "</table>\n",
       "</div>"
      ],
      "text/plain": [
       "   id  RESOURCE  MGR_ID  ROLE_ROLLUP_1  ROLE_ROLLUP_2  ROLE_DEPTNAME  \\\n",
       "0   1     32642    7792         118573         118574         117945   \n",
       "1   2      4696   14638         117961         118343         118514   \n",
       "2   3     22662    1760         118887         118888         120171   \n",
       "3   4     75078    7576         117961         118052         120671   \n",
       "4   5     39879   55668         117902         118041         117945   \n",
       "\n",
       "   ROLE_TITLE  ROLE_FAMILY_DESC  ROLE_FAMILY  ROLE_CODE  \n",
       "0      136261            128463       292795     119082  \n",
       "1      118321            289122       255851     118322  \n",
       "2      118396            255118       118398     118399  \n",
       "3      118321            117906       257051     118322  \n",
       "4      135951            134458        19776     119082  "
      ]
     },
     "execution_count": 61,
     "metadata": {},
     "output_type": "execute_result"
    }
   ],
   "source": [
    "dfTest.head()"
   ]
  },
  {
   "cell_type": "code",
   "execution_count": 62,
   "id": "05ccedf1",
   "metadata": {},
   "outputs": [
    {
     "data": {
      "text/html": [
       "<div>\n",
       "<style scoped>\n",
       "    .dataframe tbody tr th:only-of-type {\n",
       "        vertical-align: middle;\n",
       "    }\n",
       "\n",
       "    .dataframe tbody tr th {\n",
       "        vertical-align: top;\n",
       "    }\n",
       "\n",
       "    .dataframe thead th {\n",
       "        text-align: right;\n",
       "    }\n",
       "</style>\n",
       "<table border=\"1\" class=\"dataframe\">\n",
       "  <thead>\n",
       "    <tr style=\"text-align: right;\">\n",
       "      <th></th>\n",
       "      <th>RESOURCE</th>\n",
       "      <th>MGR_ID</th>\n",
       "      <th>ROLE_ROLLUP_1</th>\n",
       "      <th>ROLE_ROLLUP_2</th>\n",
       "      <th>ROLE_DEPTNAME</th>\n",
       "      <th>ROLE_TITLE</th>\n",
       "      <th>ROLE_FAMILY_DESC</th>\n",
       "      <th>ROLE_FAMILY</th>\n",
       "      <th>ROLE_CODE</th>\n",
       "    </tr>\n",
       "  </thead>\n",
       "  <tbody>\n",
       "    <tr>\n",
       "      <th>0</th>\n",
       "      <td>32642</td>\n",
       "      <td>7792</td>\n",
       "      <td>118573</td>\n",
       "      <td>118574</td>\n",
       "      <td>117945</td>\n",
       "      <td>136261</td>\n",
       "      <td>128463</td>\n",
       "      <td>292795</td>\n",
       "      <td>119082</td>\n",
       "    </tr>\n",
       "    <tr>\n",
       "      <th>1</th>\n",
       "      <td>4696</td>\n",
       "      <td>14638</td>\n",
       "      <td>117961</td>\n",
       "      <td>118343</td>\n",
       "      <td>118514</td>\n",
       "      <td>118321</td>\n",
       "      <td>289122</td>\n",
       "      <td>255851</td>\n",
       "      <td>118322</td>\n",
       "    </tr>\n",
       "    <tr>\n",
       "      <th>2</th>\n",
       "      <td>22662</td>\n",
       "      <td>1760</td>\n",
       "      <td>118887</td>\n",
       "      <td>118888</td>\n",
       "      <td>120171</td>\n",
       "      <td>118396</td>\n",
       "      <td>255118</td>\n",
       "      <td>118398</td>\n",
       "      <td>118399</td>\n",
       "    </tr>\n",
       "    <tr>\n",
       "      <th>3</th>\n",
       "      <td>75078</td>\n",
       "      <td>7576</td>\n",
       "      <td>117961</td>\n",
       "      <td>118052</td>\n",
       "      <td>120671</td>\n",
       "      <td>118321</td>\n",
       "      <td>117906</td>\n",
       "      <td>257051</td>\n",
       "      <td>118322</td>\n",
       "    </tr>\n",
       "    <tr>\n",
       "      <th>4</th>\n",
       "      <td>39879</td>\n",
       "      <td>55668</td>\n",
       "      <td>117902</td>\n",
       "      <td>118041</td>\n",
       "      <td>117945</td>\n",
       "      <td>135951</td>\n",
       "      <td>134458</td>\n",
       "      <td>19776</td>\n",
       "      <td>119082</td>\n",
       "    </tr>\n",
       "  </tbody>\n",
       "</table>\n",
       "</div>"
      ],
      "text/plain": [
       "   RESOURCE  MGR_ID  ROLE_ROLLUP_1  ROLE_ROLLUP_2  ROLE_DEPTNAME  ROLE_TITLE  \\\n",
       "0     32642    7792         118573         118574         117945      136261   \n",
       "1      4696   14638         117961         118343         118514      118321   \n",
       "2     22662    1760         118887         118888         120171      118396   \n",
       "3     75078    7576         117961         118052         120671      118321   \n",
       "4     39879   55668         117902         118041         117945      135951   \n",
       "\n",
       "   ROLE_FAMILY_DESC  ROLE_FAMILY  ROLE_CODE  \n",
       "0            128463       292795     119082  \n",
       "1            289122       255851     118322  \n",
       "2            255118       118398     118399  \n",
       "3            117906       257051     118322  \n",
       "4            134458        19776     119082  "
      ]
     },
     "execution_count": 62,
     "metadata": {},
     "output_type": "execute_result"
    }
   ],
   "source": [
    "Xtest = dfTest.drop('id', axis=1)\n",
    "Xtest.head()"
   ]
  },
  {
   "cell_type": "code",
   "execution_count": 64,
   "id": "37771525",
   "metadata": {},
   "outputs": [
    {
     "name": "stdout",
     "output_type": "stream",
     "text": [
      "[1 1 1 ... 1 1 1]\n"
     ]
    }
   ],
   "source": [
    "predOutput = rfModel.predict(Xtest)\n",
    "print(predOutput)"
   ]
  }
 ],
 "metadata": {
  "kernelspec": {
   "display_name": "Python 3 (ipykernel)",
   "language": "python",
   "name": "python3"
  },
  "language_info": {
   "codemirror_mode": {
    "name": "ipython",
    "version": 3
   },
   "file_extension": ".py",
   "mimetype": "text/x-python",
   "name": "python",
   "nbconvert_exporter": "python",
   "pygments_lexer": "ipython3",
   "version": "3.9.7"
  }
 },
 "nbformat": 4,
 "nbformat_minor": 5
}
